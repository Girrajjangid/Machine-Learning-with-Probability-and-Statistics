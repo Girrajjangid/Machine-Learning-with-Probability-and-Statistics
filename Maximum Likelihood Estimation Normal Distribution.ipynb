{
 "cells": [
  {
   "cell_type": "markdown",
   "metadata": {},
   "source": [
    "In order to verify that in case of Poisson Distribution, the MVU Estimator of mode of distribution is Maxiumum Likelihood Estimator, what we are going to is that we are going to withdraw samples from a Poisson Distributed data with known value of mode so that we will be having a reference value to compare our results of Best Point Estimate calculated by taking the mean of Sampling Distribution of our MVU Point Estimator. "
   ]
  },
  {
   "cell_type": "code",
   "execution_count": 1,
   "metadata": {},
   "outputs": [],
   "source": [
    "import numpy as np\n",
    "import scipy.stats as s"
   ]
  },
  {
   "cell_type": "code",
   "execution_count": 2,
   "metadata": {},
   "outputs": [],
   "source": [
    "mu_gaussian = 65\n",
    "sigma_gaussian = 5\n",
    "N = 1\n",
    "n_samples = 100"
   ]
  },
  {
   "cell_type": "markdown",
   "metadata": {},
   "source": [
    "The above taken value of mode is the true value of natural parameter of Rayliegh Distribution. "
   ]
  },
  {
   "cell_type": "code",
   "execution_count": 3,
   "metadata": {},
   "outputs": [],
   "source": [
    "Samples = np.random.normal(loc=mu_gaussian,scale=sigma_gaussian,size=(n_samples,N))"
   ]
  },
  {
   "cell_type": "code",
   "execution_count": 4,
   "metadata": {},
   "outputs": [
    {
     "name": "stdout",
     "output_type": "stream",
     "text": [
      "[[61.11799763 65.04027376 59.03196506 67.73784531 54.93442177]\n",
      " [58.63947705 61.05251491 67.79058949 72.74499889 56.87640265]\n",
      " [63.73532422 57.73566813 62.83648737 64.0753158  71.68550871]\n",
      " [68.0012307  70.1563347  68.37218886 69.29951922 56.16673527]\n",
      " [68.15499213 68.61273813 73.21011267 59.33272252 63.38504955]\n",
      " [62.65826488 69.24666146 58.48476903 63.7228113  63.99449335]\n",
      " [57.61827894 73.01716936 69.01355763 65.50639969 71.93110194]\n",
      " [65.91764455 68.49674771 62.95543537 59.3045283  70.99502826]\n",
      " [68.95747261 66.55135847 73.06069712 57.21918339 69.11852526]\n",
      " [66.80004714 63.22238031 65.88783863 69.24465941 55.53184612]\n",
      " [66.71015261 64.27209703 72.85003467 71.48510503 55.57235714]\n",
      " [73.25530815 59.33876721 77.73780754 65.6854834  69.03444628]\n",
      " [65.50447921 71.1495037  68.68957098 66.64816926 63.13822207]\n",
      " [75.08402289 69.1458594  63.24680308 74.51195391 61.42315929]\n",
      " [69.68169378 62.96128898 61.55990982 68.46995359 62.61337744]\n",
      " [74.96692213 61.8611697  55.6864357  72.2507652  59.66136065]\n",
      " [70.08971835 65.45326681 64.86372668 64.92923255 63.64132589]\n",
      " [58.076996   62.87088879 64.15682303 68.49719398 64.2798093 ]\n",
      " [63.41643314 67.1029182  64.5089848  66.23866463 70.04607243]\n",
      " [61.62290361 65.38323036 60.52712067 69.59525466 66.61728687]\n",
      " [60.57835301 64.94411605 69.86635292 70.13728856 62.70258743]\n",
      " [67.67688229 57.18706763 65.24117266 63.20618925 65.75972371]\n",
      " [72.90730269 62.33930487 65.67033707 54.03571497 64.36555571]\n",
      " [49.70367294 66.73396494 57.84795355 74.63776488 72.58930258]\n",
      " [59.35877481 69.01408244 72.22347468 77.68193971 72.41596642]\n",
      " [73.7331435  58.78457074 62.3203499  63.13935766 63.86007483]\n",
      " [57.00772424 67.31385509 67.20043333 59.64332326 65.07837388]\n",
      " [64.09214063 63.22627724 67.34470547 68.16437398 62.15425721]\n",
      " [61.36761425 81.72940518 68.72619682 58.97752469 60.46408466]\n",
      " [69.20322627 59.75750081 69.52696052 64.57841756 63.28133243]\n",
      " [71.32761667 62.01136462 64.53628854 62.95222475 70.45779076]\n",
      " [73.08043721 62.06370936 73.42245668 65.29726962 65.24245534]\n",
      " [77.7877111  68.5706335  66.30415464 68.26175858 70.85562072]\n",
      " [64.64476424 70.88890085 78.61127376 67.88230383 56.88393351]\n",
      " [67.11331672 67.7203815  61.30177034 55.00736953 55.46573921]\n",
      " [59.54803732 60.21637974 61.27532321 58.62078209 66.19725012]\n",
      " [64.70458104 58.31788081 63.34475927 60.63304448 67.63886426]\n",
      " [62.42618677 69.57933881 60.20347198 69.3295845  63.997408  ]\n",
      " [69.114927   61.56885739 56.34396386 64.73771078 64.92883117]\n",
      " [64.57554413 64.1396231  68.80044229 67.96675086 63.14102979]\n",
      " [61.1362523  56.08060121 61.26996158 55.51555142 62.92352607]\n",
      " [65.22641263 61.86216442 80.45717243 61.07326616 59.39518116]\n",
      " [71.04915934 67.12316296 61.37320129 63.47339811 62.12239247]\n",
      " [64.08632722 70.6846466  63.15604444 63.72316524 68.48235664]\n",
      " [65.63699796 61.12548932 61.18404238 69.08669715 61.87200219]\n",
      " [61.41360443 67.09462459 71.48487114 61.67395072 69.06272746]\n",
      " [64.59466522 63.76023976 68.80927862 68.44308013 75.56841567]\n",
      " [68.89129425 72.60182225 68.31056926 76.06325868 62.77003387]\n",
      " [62.13767568 69.17719269 65.92658135 65.19463271 64.52881165]\n",
      " [56.78107764 61.35851566 59.82022276 64.64808173 65.56561369]\n",
      " [74.58693111 73.61640867 64.09238629 64.87305067 62.45506103]\n",
      " [72.49486521 61.42790592 65.61348902 70.166327   68.00533294]\n",
      " [77.35442572 69.55768254 58.11724252 63.75316139 62.5538945 ]\n",
      " [72.05584483 58.19381657 69.54047909 61.97444793 64.88360648]\n",
      " [68.43548271 68.95847528 65.49079129 71.05247613 65.39875053]\n",
      " [67.25202132 70.72389508 64.35571709 74.76682515 63.42248048]\n",
      " [73.02073077 69.38772113 62.5348515  66.93747823 63.60933706]\n",
      " [66.50098649 60.56506959 68.26411002 62.40213381 67.16878361]\n",
      " [66.88438053 64.25691355 66.14045951 70.06953714 60.55231497]\n",
      " [60.90725668 66.84240571 67.00860629 57.56570571 66.43628983]\n",
      " [62.75361991 64.75201625 64.57787992 66.54820306 71.46986356]\n",
      " [60.4168745  63.2256551  64.3416394  64.12848652 63.70258161]\n",
      " [66.02528288 68.26749592 57.29350901 70.37354074 63.39668004]\n",
      " [58.38412182 60.80796436 62.75653141 59.58007796 64.71205519]\n",
      " [69.23170989 56.96824006 66.80995082 67.02680812 61.71485279]\n",
      " [66.7421721  72.06533957 67.10730665 70.22062459 62.61874979]\n",
      " [67.94235089 73.70155974 72.0046971  57.08508443 65.87863937]\n",
      " [74.42404382 52.72165269 63.51543466 65.41123497 55.57626904]\n",
      " [64.09983936 78.55819643 76.18011975 57.73292384 58.42376979]\n",
      " [65.334124   69.38322035 63.93105125 66.84085355 63.36606278]\n",
      " [54.67991892 63.11239765 77.75185794 66.22072823 61.54656461]\n",
      " [62.63810364 64.26937296 65.68331821 67.07325995 66.38221289]\n",
      " [69.35251234 76.52531977 63.53211214 67.73560976 62.36815339]\n",
      " [56.37738234 70.25261328 60.70216228 59.51675383 62.75425659]\n",
      " [64.65048788 75.03363213 64.07603586 62.29944501 58.55432517]\n",
      " [70.15782023 61.41874854 63.40803431 64.87776069 55.79707723]\n",
      " [64.16883494 67.81981205 61.95079767 74.37614614 73.22868331]\n",
      " [61.058782   56.12547494 58.77134164 72.98220959 79.48559695]\n",
      " [52.39456646 70.28663216 63.95263359 56.68502932 64.41449747]\n",
      " [63.87984508 61.57047764 60.28757014 57.14279286 63.89768358]\n",
      " [60.34122172 65.56358987 58.40988367 65.62115807 66.62489905]\n",
      " [59.70296875 59.53001899 66.70057511 70.21374092 59.68334983]\n",
      " [67.67198541 65.01735196 63.94900092 69.05304048 67.02376277]\n",
      " [64.01500438 60.43326001 61.68934202 77.64738531 63.84086604]\n",
      " [68.53760193 59.17387991 66.08663159 63.23208143 62.5729961 ]\n",
      " [62.55085888 59.57490395 61.03054149 60.12016679 75.31311548]\n",
      " [59.91288181 66.44209838 68.47367541 70.5274149  62.7915862 ]\n",
      " [61.65497471 73.5411015  69.3342925  66.00769392 52.40628609]\n",
      " [65.13305663 65.1017561  58.19608659 64.85531921 59.6197434 ]\n",
      " [67.41094507 66.44012017 54.61421819 63.71066022 66.28910181]\n",
      " [63.59878191 62.63504382 75.17854948 61.33446875 76.29888368]\n",
      " [63.47878632 67.83758134 64.10260125 62.08674959 58.30768405]\n",
      " [64.41396763 72.34974414 68.18611719 62.98668321 61.58688259]\n",
      " [57.28370673 61.54914101 56.87516771 62.34369084 69.65536501]\n",
      " [61.82013403 65.32474001 78.87981035 67.43574019 58.74064833]\n",
      " [72.82738305 62.97614032 63.90528742 65.1119828  64.20857946]\n",
      " [68.56375237 64.99894478 58.89073775 66.36754214 61.44228596]\n",
      " [65.72552168 70.29030168 64.35761989 60.96141082 69.78224137]\n",
      " [59.03799937 63.07570903 59.3036322  61.15102426 61.41517804]\n",
      " [70.4679947  57.81419885 63.03799096 69.11467063 64.08449329]]\n"
     ]
    }
   ],
   "source": [
    "print(Samples)"
   ]
  },
  {
   "cell_type": "code",
   "execution_count": 5,
   "metadata": {},
   "outputs": [],
   "source": [
    "#Each_Sample_Reading_Square = Samples**2"
   ]
  },
  {
   "cell_type": "code",
   "execution_count": 6,
   "metadata": {},
   "outputs": [],
   "source": [
    "#print(Each_Sample_Reading_Square)"
   ]
  },
  {
   "cell_type": "code",
   "execution_count": 7,
   "metadata": {},
   "outputs": [],
   "source": [
    "#Each_row_sum = np.sum(Each_Sample_Reading_Square,axis=1)"
   ]
  },
  {
   "cell_type": "code",
   "execution_count": 8,
   "metadata": {},
   "outputs": [],
   "source": [
    "#Each_row_sum"
   ]
  },
  {
   "cell_type": "code",
   "execution_count": 9,
   "metadata": {},
   "outputs": [],
   "source": [
    "#Each_row_sum = Each_row_sum/(2*N)"
   ]
  },
  {
   "cell_type": "code",
   "execution_count": 10,
   "metadata": {},
   "outputs": [],
   "source": [
    "#Each_row_sum"
   ]
  },
  {
   "cell_type": "code",
   "execution_count": 11,
   "metadata": {},
   "outputs": [],
   "source": [
    "MVU_estimator_point_estimates = np.mean(Samples,axis=1)"
   ]
  },
  {
   "cell_type": "code",
   "execution_count": 12,
   "metadata": {},
   "outputs": [
    {
     "data": {
      "text/plain": [
       "array([61.57250071, 63.4207966 , 64.01366085, 66.39920175, 66.539123  ,\n",
       "       63.6214    , 67.41730151, 65.53387684, 66.98144737, 64.13735432,\n",
       "       66.1779493 , 69.01036252, 67.02598905, 68.68235972, 65.05724472,\n",
       "       64.88533068, 65.79545406, 63.57634222, 66.26261464, 64.74915923,\n",
       "       65.64573959, 63.81420711, 63.86364306, 64.30253178, 70.13884761,\n",
       "       64.36749933, 63.24874196, 64.99635091, 66.25296512, 65.26948752,\n",
       "       66.25705707, 67.82126564, 70.35597571, 67.78223524, 61.32171546,\n",
       "       61.1715545 , 62.92782597, 65.10719801, 63.33885804, 65.72467803,\n",
       "       59.38517852, 65.60283936, 65.02826283, 66.02650803, 63.7810458 ,\n",
       "       66.14595567, 68.23513588, 69.72739566, 65.39297882, 61.6347023 ,\n",
       "       67.92476755, 67.54158402, 66.26728133, 65.32963898, 67.86719519,\n",
       "       68.10418782, 67.09802374, 64.9802167 , 65.58072114, 63.75205284,\n",
       "       66.02031654, 63.16304743, 65.07130172, 61.24815015, 64.35031234,\n",
       "       67.75083854, 67.32246631, 62.32972704, 66.99896984, 65.77106239,\n",
       "       64.66229347, 65.20925353, 67.90274148, 61.92063366, 64.92278521,\n",
       "       63.1318882 , 68.30885482, 65.68468102, 61.5466718 , 61.35567386,\n",
       "       63.31215048, 63.16613072, 66.54302831, 65.52517155, 63.92063819,\n",
       "       63.71791732, 65.62953134, 64.58886974, 62.58119239, 63.69300909,\n",
       "       67.80914553, 63.16268051, 65.90467895, 61.54141426, 66.44021458,\n",
       "       65.80587461, 64.0526526 , 66.22341909, 60.79670858, 64.90386968])"
      ]
     },
     "execution_count": 12,
     "metadata": {},
     "output_type": "execute_result"
    }
   ],
   "source": [
    "MVU_estimator_point_estimates"
   ]
  },
  {
   "cell_type": "code",
   "execution_count": 13,
   "metadata": {},
   "outputs": [],
   "source": [
    "min_value = np.min(MVU_estimator_point_estimates)"
   ]
  },
  {
   "cell_type": "code",
   "execution_count": 14,
   "metadata": {},
   "outputs": [
    {
     "data": {
      "text/plain": [
       "59.38517851522668"
      ]
     },
     "execution_count": 14,
     "metadata": {},
     "output_type": "execute_result"
    }
   ],
   "source": [
    "min_value"
   ]
  },
  {
   "cell_type": "code",
   "execution_count": 15,
   "metadata": {},
   "outputs": [],
   "source": [
    "max_value = np.max(MVU_estimator_point_estimates)"
   ]
  },
  {
   "cell_type": "code",
   "execution_count": 16,
   "metadata": {},
   "outputs": [
    {
     "data": {
      "text/plain": [
       "70.35597570724806"
      ]
     },
     "execution_count": 16,
     "metadata": {},
     "output_type": "execute_result"
    }
   ],
   "source": [
    "max_value"
   ]
  },
  {
   "cell_type": "code",
   "execution_count": 17,
   "metadata": {},
   "outputs": [],
   "source": [
    "bins = 10\n",
    "bin_width = (max_value - min_value)/bins"
   ]
  },
  {
   "cell_type": "code",
   "execution_count": 18,
   "metadata": {},
   "outputs": [
    {
     "data": {
      "text/plain": [
       "1.0970797192021386"
      ]
     },
     "execution_count": 18,
     "metadata": {},
     "output_type": "execute_result"
    }
   ],
   "source": [
    "bin_width"
   ]
  },
  {
   "cell_type": "code",
   "execution_count": 19,
   "metadata": {},
   "outputs": [],
   "source": [
    "X_axis_markings = np.arange(start=min_value,stop=max_value,step=bin_width)"
   ]
  },
  {
   "cell_type": "code",
   "execution_count": 20,
   "metadata": {},
   "outputs": [
    {
     "data": {
      "text/plain": [
       "array([59.38517852, 60.48225823, 61.57933795, 62.67641767, 63.77349739,\n",
       "       64.87057711, 65.96765683, 67.06473655, 68.16181627, 69.25889599])"
      ]
     },
     "execution_count": 20,
     "metadata": {},
     "output_type": "execute_result"
    }
   ],
   "source": [
    "X_axis_markings"
   ]
  },
  {
   "cell_type": "code",
   "execution_count": 21,
   "metadata": {},
   "outputs": [],
   "source": [
    "frequencies = []\n",
    " \n",
    "for i in range(len(X_axis_markings)-1):\n",
    "    \n",
    "    boolean_mask = (MVU_estimator_point_estimates >= X_axis_markings[i]) & (MVU_estimator_point_estimates < X_axis_markings[i+1]) \n",
    "    \n",
    "    frequency = np.sum(boolean_mask)\n",
    "    \n",
    "    frequencies.append(frequency)\n",
    "    \n",
    "boolean_mask = (MVU_estimator_point_estimates >= X_axis_markings[i]) & (MVU_estimator_point_estimates < X_axis_markings[i+1])\n",
    "\n",
    "frequency = np.sum(boolean_mask)\n",
    "\n",
    "frequencies.append(frequency)"
   ]
  },
  {
   "cell_type": "code",
   "execution_count": 22,
   "metadata": {},
   "outputs": [],
   "source": [
    "import matplotlib.pyplot as plt"
   ]
  },
  {
   "cell_type": "code",
   "execution_count": 23,
   "metadata": {},
   "outputs": [
    {
     "data": {
      "text/plain": [
       "<BarContainer object of 10 artists>"
      ]
     },
     "execution_count": 23,
     "metadata": {},
     "output_type": "execute_result"
    },
    {
     "data": {
      "image/png": "[encoded data removed]",
      "text/plain": [
       "<Figure size 432x288 with 1 Axes>"
      ]
     },
     "metadata": {},
     "output_type": "display_data"
    }
   ],
   "source": [
    "plt.bar(X_axis_markings,frequencies)"
   ]
  },
  {
   "cell_type": "code",
   "execution_count": 24,
   "metadata": {},
   "outputs": [],
   "source": [
    "best_estimate = np.mean(MVU_estimator_point_estimates)"
   ]
  },
  {
   "cell_type": "code",
   "execution_count": 25,
   "metadata": {},
   "outputs": [
    {
     "data": {
      "text/plain": [
       "65.13963485762079"
      ]
     },
     "execution_count": 25,
     "metadata": {},
     "output_type": "execute_result"
    }
   ],
   "source": [
    "best_estimate"
   ]
  },
  {
   "cell_type": "code",
   "execution_count": null,
   "metadata": {},
   "outputs": [],
   "source": []
  }
 ],
 "metadata": {
  "kernelspec": {
   "display_name": "Python 3",
   "language": "python",
   "name": "python3"
  },
  "language_info": {
   "codemirror_mode": {
    "name": "ipython",
    "version": 3
   },
   "file_extension": ".py",
   "mimetype": "text/x-python",
   "name": "python",
   "nbconvert_exporter": "python",
   "pygments_lexer": "ipython3",
   "version": "3.6.5"
  }
 },
 "nbformat": 4,
 "nbformat_minor": 2
}
