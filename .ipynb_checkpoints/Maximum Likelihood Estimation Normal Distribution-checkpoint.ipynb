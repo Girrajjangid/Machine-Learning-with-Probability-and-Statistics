{
 "cells": [
  {
   "cell_type": "markdown",
   "metadata": {},
   "source": [
    "In order to verify that in case of Poisson Distribution, the MVU Estimator of mode of distribution is Maxiumum Likelihood Estimator, what we are going to is that we are going to withdraw samples from a Poisson Distributed data with known value of mode so that we will be having a reference value to compare our results of Best Point Estimate calculated by taking the mean of Sampling Distribution of our MVU Point Estimator. "
   ]
  },
  {
   "cell_type": "code",
   "execution_count": 1,
   "metadata": {},
   "outputs": [],
   "source": [
    "import numpy as np\n",
    "import scipy.stats as s"
   ]
  },
  {
   "cell_type": "code",
   "execution_count": 45,
   "metadata": {},
   "outputs": [],
   "source": [
    "lambda_poisson = 8\n",
    "N = 31\n",
    "n_samples = 100"
   ]
  },
  {
   "cell_type": "markdown",
   "metadata": {},
   "source": [
    "The above taken value of mode is the true value of natural parameter of Rayliegh Distribution. "
   ]
  },
  {
   "cell_type": "code",
   "execution_count": 46,
   "metadata": {},
   "outputs": [],
   "source": [
    "Samples = np.random.poisson(lam=lambda_poisson,size=(n_samples,N))"
   ]
  },
  {
   "cell_type": "code",
   "execution_count": 47,
   "metadata": {},
   "outputs": [
    {
     "name": "stdout",
     "output_type": "stream",
     "text": [
      "[[ 7  9  8 ...  2  8  6]\n",
      " [ 6  6  8 ...  8 15  6]\n",
      " [ 7  6  4 ... 11 11  6]\n",
      " ...\n",
      " [ 5  3  5 ... 10  6  7]\n",
      " [ 7 14  5 ... 15  6  9]\n",
      " [ 7 11 15 ...  8  4  6]]\n"
     ]
    }
   ],
   "source": [
    "print(Samples)"
   ]
  },
  {
   "cell_type": "code",
   "execution_count": 48,
   "metadata": {},
   "outputs": [],
   "source": [
    "#Each_Sample_Reading_Square = Samples**2"
   ]
  },
  {
   "cell_type": "code",
   "execution_count": 49,
   "metadata": {},
   "outputs": [],
   "source": [
    "#print(Each_Sample_Reading_Square)"
   ]
  },
  {
   "cell_type": "code",
   "execution_count": 50,
   "metadata": {},
   "outputs": [],
   "source": [
    "#Each_row_sum = np.sum(Each_Sample_Reading_Square,axis=1)"
   ]
  },
  {
   "cell_type": "code",
   "execution_count": 51,
   "metadata": {},
   "outputs": [],
   "source": [
    "#Each_row_sum"
   ]
  },
  {
   "cell_type": "code",
   "execution_count": 52,
   "metadata": {},
   "outputs": [],
   "source": [
    "#Each_row_sum = Each_row_sum/(2*N)"
   ]
  },
  {
   "cell_type": "code",
   "execution_count": 53,
   "metadata": {},
   "outputs": [],
   "source": [
    "#Each_row_sum"
   ]
  },
  {
   "cell_type": "code",
   "execution_count": 54,
   "metadata": {},
   "outputs": [],
   "source": [
    "MVU_estimator_point_estimates = np.mean(Samples,axis=1)"
   ]
  },
  {
   "cell_type": "code",
   "execution_count": 55,
   "metadata": {},
   "outputs": [
    {
     "data": {
      "text/plain": [
       "array([7.80645161, 8.16129032, 8.09677419, 8.09677419, 8.19354839,\n",
       "       7.74193548, 8.09677419, 7.87096774, 8.16129032, 7.48387097,\n",
       "       8.48387097, 9.06451613, 8.29032258, 9.        , 8.48387097,\n",
       "       7.29032258, 7.90322581, 8.32258065, 7.48387097, 9.09677419,\n",
       "       7.96774194, 8.35483871, 7.32258065, 8.12903226, 8.12903226,\n",
       "       9.16129032, 7.03225806, 7.80645161, 8.19354839, 7.87096774,\n",
       "       7.61290323, 8.61290323, 7.70967742, 7.74193548, 7.80645161,\n",
       "       8.41935484, 7.77419355, 7.64516129, 8.12903226, 8.93548387,\n",
       "       8.32258065, 8.32258065, 7.80645161, 8.80645161, 7.93548387,\n",
       "       7.41935484, 7.96774194, 7.64516129, 8.16129032, 8.61290323,\n",
       "       7.61290323, 8.25806452, 7.83870968, 8.67741935, 8.58064516,\n",
       "       8.51612903, 7.67741935, 7.80645161, 8.48387097, 7.93548387,\n",
       "       7.87096774, 7.64516129, 7.32258065, 8.67741935, 8.09677419,\n",
       "       7.12903226, 9.32258065, 7.64516129, 6.87096774, 8.22580645,\n",
       "       7.4516129 , 8.5483871 , 7.51612903, 7.16129032, 7.77419355,\n",
       "       8.25806452, 8.22580645, 8.41935484, 8.22580645, 8.        ,\n",
       "       7.70967742, 8.41935484, 7.51612903, 7.93548387, 7.51612903,\n",
       "       7.67741935, 7.61290323, 7.4516129 , 7.93548387, 7.61290323,\n",
       "       8.        , 8.51612903, 8.        , 8.41935484, 8.16129032,\n",
       "       7.19354839, 8.        , 7.61290323, 7.58064516, 7.70967742])"
      ]
     },
     "execution_count": 55,
     "metadata": {},
     "output_type": "execute_result"
    }
   ],
   "source": [
    "MVU_estimator_point_estimates"
   ]
  },
  {
   "cell_type": "code",
   "execution_count": 56,
   "metadata": {},
   "outputs": [],
   "source": [
    "min_value = np.min(MVU_estimator_point_estimates)"
   ]
  },
  {
   "cell_type": "code",
   "execution_count": 57,
   "metadata": {},
   "outputs": [
    {
     "data": {
      "text/plain": [
       "6.870967741935484"
      ]
     },
     "execution_count": 57,
     "metadata": {},
     "output_type": "execute_result"
    }
   ],
   "source": [
    "min_value"
   ]
  },
  {
   "cell_type": "code",
   "execution_count": 58,
   "metadata": {},
   "outputs": [],
   "source": [
    "max_value = np.max(MVU_estimator_point_estimates)"
   ]
  },
  {
   "cell_type": "code",
   "execution_count": 59,
   "metadata": {},
   "outputs": [
    {
     "data": {
      "text/plain": [
       "9.32258064516129"
      ]
     },
     "execution_count": 59,
     "metadata": {},
     "output_type": "execute_result"
    }
   ],
   "source": [
    "max_value"
   ]
  },
  {
   "cell_type": "code",
   "execution_count": 60,
   "metadata": {},
   "outputs": [],
   "source": [
    "bins = 10\n",
    "bin_width = (max_value - min_value)/bins"
   ]
  },
  {
   "cell_type": "code",
   "execution_count": 61,
   "metadata": {},
   "outputs": [
    {
     "data": {
      "text/plain": [
       "0.2451612903225806"
      ]
     },
     "execution_count": 61,
     "metadata": {},
     "output_type": "execute_result"
    }
   ],
   "source": [
    "bin_width"
   ]
  },
  {
   "cell_type": "code",
   "execution_count": 62,
   "metadata": {},
   "outputs": [],
   "source": [
    "X_axis_markings = np.arange(start=min_value,stop=max_value,step=bin_width)"
   ]
  },
  {
   "cell_type": "code",
   "execution_count": 63,
   "metadata": {},
   "outputs": [
    {
     "data": {
      "text/plain": [
       "array([6.87096774, 7.11612903, 7.36129032, 7.60645161, 7.8516129 ,\n",
       "       8.09677419, 8.34193548, 8.58709677, 8.83225806, 9.07741935])"
      ]
     },
     "execution_count": 63,
     "metadata": {},
     "output_type": "execute_result"
    }
   ],
   "source": [
    "X_axis_markings"
   ]
  },
  {
   "cell_type": "code",
   "execution_count": 64,
   "metadata": {},
   "outputs": [],
   "source": [
    "frequencies = []\n",
    " \n",
    "for i in range(len(X_axis_markings)-1):\n",
    "    \n",
    "    boolean_mask = (MVU_estimator_point_estimates >= X_axis_markings[i]) & (MVU_estimator_point_estimates < X_axis_markings[i+1]) \n",
    "    \n",
    "    frequency = np.sum(boolean_mask)\n",
    "    \n",
    "    frequencies.append(frequency)\n",
    "    \n",
    "boolean_mask = (MVU_estimator_point_estimates >= X_axis_markings[i]) & (MVU_estimator_point_estimates < X_axis_markings[i+1])\n",
    "\n",
    "frequency = np.sum(boolean_mask)\n",
    "\n",
    "frequencies.append(frequency)"
   ]
  },
  {
   "cell_type": "code",
   "execution_count": 65,
   "metadata": {},
   "outputs": [],
   "source": [
    "import matplotlib.pyplot as plt"
   ]
  },
  {
   "cell_type": "code",
   "execution_count": 66,
   "metadata": {},
   "outputs": [
    {
     "data": {
      "text/plain": [
       "<BarContainer object of 10 artists>"
      ]
     },
     "execution_count": 66,
     "metadata": {},
     "output_type": "execute_result"
    },
    {
     "data": {
      "image/png": "[encoded data removed]",
      "text/plain": [
       "<Figure size 432x288 with 1 Axes>"
      ]
     },
     "metadata": {},
     "output_type": "display_data"
    }
   ],
   "source": [
    "plt.bar(X_axis_markings,frequencies)"
   ]
  },
  {
   "cell_type": "code",
   "execution_count": 67,
   "metadata": {},
   "outputs": [],
   "source": [
    "best_estimate = np.mean(MVU_estimator_point_estimates)"
   ]
  },
  {
   "cell_type": "code",
   "execution_count": 68,
   "metadata": {},
   "outputs": [
    {
     "data": {
      "text/plain": [
       "8.008387096774195"
      ]
     },
     "execution_count": 68,
     "metadata": {},
     "output_type": "execute_result"
    }
   ],
   "source": [
    "best_estimate"
   ]
  },
  {
   "cell_type": "code",
   "execution_count": null,
   "metadata": {},
   "outputs": [],
   "source": []
  }
 ],
 "metadata": {
  "kernelspec": {
   "display_name": "Python 3",
   "language": "python",
   "name": "python3"
  },
  "language_info": {
   "codemirror_mode": {
    "name": "ipython",
    "version": 3
   },
   "file_extension": ".py",
   "mimetype": "text/x-python",
   "name": "python",
   "nbconvert_exporter": "python",
   "pygments_lexer": "ipython3",
   "version": "3.6.5"
  }
 },
 "nbformat": 4,
 "nbformat_minor": 2
}
