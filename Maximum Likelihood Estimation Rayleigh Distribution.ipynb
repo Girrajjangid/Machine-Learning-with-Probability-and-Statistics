{
 "cells": [
  {
   "cell_type": "markdown",
   "metadata": {},
   "source": [
    "In order to verify that in case of Rayliegh Distribution, the MVU Estimator of mode of distribution is Maxiumum Likelihood Estimator, what we are going to is that we are going to withdraw samples from a Rayliegh Distributed data with known value of mode so that we will be having a reference value to compare our results of Best Point Estimate calculated by taking the mean of Sampling Distribution of our MVU Point Estimator. "
   ]
  },
  {
   "cell_type": "code",
   "execution_count": 1,
   "metadata": {},
   "outputs": [],
   "source": [
    "import numpy as np\n",
    "import scipy.stats as s"
   ]
  },
  {
   "cell_type": "code",
   "execution_count": 26,
   "metadata": {},
   "outputs": [],
   "source": [
    "mode = 8\n",
    "N = 31\n",
    "n_samples = 100"
   ]
  },
  {
   "cell_type": "markdown",
   "metadata": {},
   "source": [
    "The above taken value of mode is the true value of natural parameter of Rayliegh Distribution. "
   ]
  },
  {
   "cell_type": "code",
   "execution_count": 27,
   "metadata": {},
   "outputs": [],
   "source": [
    "Samples = np.random.rayleigh(scale=mode,size=(n_samples,N))"
   ]
  },
  {
   "cell_type": "code",
   "execution_count": 28,
   "metadata": {},
   "outputs": [
    {
     "name": "stdout",
     "output_type": "stream",
     "text": [
      "[[16.66140641  8.72604945 18.65021095 ...  6.82568722  4.19395875\n",
      "   8.3681123 ]\n",
      " [ 9.19900365  3.41036709 13.29397589 ... 11.95628001  7.57472162\n",
      "   6.09709886]\n",
      " [ 2.85752523 14.74150289 13.78561211 ... 12.29125657  6.37784494\n",
      "  11.1352244 ]\n",
      " ...\n",
      " [25.75423343 12.74030673 10.76676059 ...  2.86067924 11.71963524\n",
      "  12.92619896]\n",
      " [19.26446616  5.94308097  3.096102   ... 10.1154509  16.66990007\n",
      "  11.78986757]\n",
      " [ 1.81871898 10.6985523  14.65860641 ... 11.79524581 13.73426381\n",
      "   6.25317146]]\n"
     ]
    }
   ],
   "source": [
    "print(Samples)"
   ]
  },
  {
   "cell_type": "code",
   "execution_count": 29,
   "metadata": {},
   "outputs": [],
   "source": [
    "Each_Sample_Reading_Square = Samples**2"
   ]
  },
  {
   "cell_type": "code",
   "execution_count": 30,
   "metadata": {},
   "outputs": [
    {
     "name": "stdout",
     "output_type": "stream",
     "text": [
      "[[277.60246354  76.14393905 347.83036864 ...  46.59000609  17.58928998\n",
      "   70.0253034 ]\n",
      " [ 84.62166815  11.63060366 176.72979507 ... 142.95263173  57.3764076\n",
      "   37.17461449]\n",
      " [  8.16545042 217.31190739 190.04310123 ... 151.07498817  40.67690614\n",
      "  123.99322254]\n",
      " ...\n",
      " [663.28053942 162.31541568 115.92313368 ...   8.18348569 137.34985007\n",
      "  167.08661957]\n",
      " [371.11965657  35.32021145   9.58584758 ... 102.32234697 277.88556837\n",
      "  139.00097732]\n",
      " [  3.30773874 114.45902123 214.87474179 ... 139.12782362 188.63000248\n",
      "   39.10215333]]\n"
     ]
    }
   ],
   "source": [
    "print(Each_Sample_Reading_Square)"
   ]
  },
  {
   "cell_type": "code",
   "execution_count": 31,
   "metadata": {},
   "outputs": [],
   "source": [
    "Each_row_sum = np.sum(Each_Sample_Reading_Square,axis=1)"
   ]
  },
  {
   "cell_type": "code",
   "execution_count": 32,
   "metadata": {},
   "outputs": [
    {
     "data": {
      "text/plain": [
       "array([2555.73750116, 2304.12692659, 2006.91823169, 1406.86578089,\n",
       "       2640.61177302, 2340.60262372, 2260.32490486, 3706.60609104,\n",
       "       2693.98406801, 2899.36272556, 2288.31070651, 2598.68306464,\n",
       "       2378.50502836, 2639.7036335 , 2057.86168966, 3253.81223522,\n",
       "       3011.53433133, 3019.01005704, 3145.26747026, 2037.23325044,\n",
       "       2919.5421626 , 1591.89995335, 2165.82220472, 2790.3905103 ,\n",
       "       2428.05333148, 2629.8656831 , 2295.64621326, 2926.10384414,\n",
       "       2254.46860769, 1798.904953  , 1827.95942587, 1798.33968266,\n",
       "       2212.78469156, 2858.16366498, 2356.36077092, 2968.76705015,\n",
       "       3219.38352897, 3572.46765057, 2668.43649389, 1565.42001677,\n",
       "       2857.12843912, 2193.37087643, 2470.32919805, 3093.44977858,\n",
       "       2683.65286044, 2644.23615639, 1608.12836624, 2800.38128526,\n",
       "       2372.16544205, 2508.10376756, 1566.70019807, 3266.91673229,\n",
       "       1959.61975373, 2497.21376414, 3325.45714389, 2590.96850497,\n",
       "       2654.85671726, 2228.79894318, 2384.2554097 , 2028.61066757,\n",
       "       2246.92412346, 3011.93747597, 2576.66819463, 2640.35178207,\n",
       "       2653.81472104, 2070.64675434, 2178.52863281, 2260.32286309,\n",
       "       3469.85921641, 2471.16910269, 3061.08049658, 2214.95995845,\n",
       "       1892.15289294, 3376.33494085, 3258.86329077, 2782.50231769,\n",
       "       2414.91350001, 2302.01047142, 3133.72997878, 2864.77418485,\n",
       "       2563.82451349, 2918.56664677, 2292.43992608, 2124.67615943,\n",
       "       3226.42224665, 2246.47026559, 2678.55154129, 3291.67359884,\n",
       "       2343.59775665, 3903.4662872 , 2029.11725669, 2506.4552328 ,\n",
       "       2141.1166048 , 2845.78344353, 2273.55467275, 3580.49096674,\n",
       "       3204.41165452, 3749.881266  , 2630.34559794, 2401.50844039])"
      ]
     },
     "execution_count": 32,
     "metadata": {},
     "output_type": "execute_result"
    }
   ],
   "source": [
    "Each_row_sum"
   ]
  },
  {
   "cell_type": "code",
   "execution_count": 33,
   "metadata": {},
   "outputs": [],
   "source": [
    "Each_row_sum = Each_row_sum/(2*N)"
   ]
  },
  {
   "cell_type": "code",
   "execution_count": 34,
   "metadata": {},
   "outputs": [
    {
     "data": {
      "text/plain": [
       "array([63.89343753, 57.60317316, 50.17295579, 35.17164452, 66.01529433,\n",
       "       58.51506559, 56.50812262, 92.66515228, 67.3496017 , 72.48406814,\n",
       "       57.20776766, 64.96707662, 59.46262571, 65.99259084, 51.44654224,\n",
       "       81.34530588, 75.28835828, 75.47525143, 78.63168676, 50.93083126,\n",
       "       72.98855406, 39.79749883, 54.14555512, 69.75976276, 60.70133329,\n",
       "       65.74664208, 57.39115533, 73.1525961 , 56.36171519, 44.97262383,\n",
       "       45.69898565, 44.95849207, 55.31961729, 71.45409162, 58.90901927,\n",
       "       74.21917625, 80.48458822, 89.31169126, 66.71091235, 39.13550042,\n",
       "       71.42821098, 54.83427191, 61.75822995, 77.33624446, 67.09132151,\n",
       "       66.10590391, 40.20320916, 70.00953213, 59.30413605, 62.70259419,\n",
       "       39.16750495, 81.67291831, 48.99049384, 62.4303441 , 83.1364286 ,\n",
       "       64.77421262, 66.37141793, 55.71997358, 59.60638524, 50.71526669,\n",
       "       56.17310309, 75.2984369 , 64.41670487, 66.00879455, 66.34536803,\n",
       "       51.76616886, 54.46321582, 56.50807158, 86.74648041, 61.77922757,\n",
       "       76.52701241, 55.37399896, 47.30382232, 84.40837352, 81.47158227,\n",
       "       69.56255794, 60.3728375 , 57.55026179, 78.34324947, 71.61935462,\n",
       "       64.09561284, 72.96416617, 57.31099815, 53.11690399, 80.66055617,\n",
       "       56.16175664, 66.96378853, 82.29183997, 58.58994392, 97.58665718,\n",
       "       50.72793142, 62.66138082, 53.52791512, 71.14458609, 56.83886682,\n",
       "       89.51227417, 80.11029136, 93.74703165, 65.75863995, 60.03771101])"
      ]
     },
     "execution_count": 34,
     "metadata": {},
     "output_type": "execute_result"
    }
   ],
   "source": [
    "Each_row_sum"
   ]
  },
  {
   "cell_type": "code",
   "execution_count": 35,
   "metadata": {},
   "outputs": [],
   "source": [
    "MVU_estimator_point_estimates = np.sqrt(Each_row_sum)"
   ]
  },
  {
   "cell_type": "code",
   "execution_count": 36,
   "metadata": {},
   "outputs": [
    {
     "data": {
      "text/plain": [
       "array([7.99333707, 7.58967543, 7.08328708, 5.93056865, 8.12497965,\n",
       "       7.64951408, 7.51718848, 9.62627406, 8.20668031, 8.51375758,\n",
       "       7.56358167, 8.06021567, 7.71120131, 8.12358239, 7.1726245 ,\n",
       "       9.01916326, 8.67688644, 8.68764936, 8.86745097, 7.13658401,\n",
       "       8.5433339 , 6.30852588, 7.35836633, 8.352231  , 7.79110604,\n",
       "       8.10843031, 7.57569504, 8.55292909, 7.50744399, 6.70616312,\n",
       "       6.76010249, 6.7051094 , 7.43771587, 8.45305221, 7.67522112,\n",
       "       8.61505521, 8.97132032, 9.4504863 , 8.16767484, 6.25583731,\n",
       "       8.45152122, 7.40501667, 7.85864046, 8.79410282, 8.19092922,\n",
       "       8.13055373, 6.34060006, 8.3671699 , 7.70091787, 7.91849697,\n",
       "       6.25839476, 9.03730703, 6.99932096, 7.9012875 , 9.117918  ,\n",
       "       8.04824283, 8.14686553, 7.46458127, 7.72051716, 7.12146521,\n",
       "       7.49487179, 8.67746719, 8.0260018 , 8.12457965, 8.1452666 ,\n",
       "       7.19487101, 7.37991977, 7.51718508, 9.31377906, 7.85997631,\n",
       "       8.7479719 , 7.44137077, 6.87777743, 9.18740298, 9.02616099,\n",
       "       8.34041713, 7.76999598, 7.58618888, 8.85117221, 8.46282191,\n",
       "       8.00597357, 8.54190647, 7.57040277, 7.28813447, 8.98112221,\n",
       "       7.4941148 , 8.18314051, 9.07148499, 7.65440683, 9.87859591,\n",
       "       7.12235435, 7.91589419, 7.31627741, 8.43472502, 7.53915558,\n",
       "       9.46109265, 8.95043526, 9.68230508, 8.10917011, 7.74840055])"
      ]
     },
     "execution_count": 36,
     "metadata": {},
     "output_type": "execute_result"
    }
   ],
   "source": [
    "MVU_estimator_point_estimates"
   ]
  },
  {
   "cell_type": "code",
   "execution_count": 37,
   "metadata": {},
   "outputs": [],
   "source": [
    "min_value = np.min(MVU_estimator_point_estimates)"
   ]
  },
  {
   "cell_type": "code",
   "execution_count": 38,
   "metadata": {},
   "outputs": [
    {
     "data": {
      "text/plain": [
       "5.930568650824519"
      ]
     },
     "execution_count": 38,
     "metadata": {},
     "output_type": "execute_result"
    }
   ],
   "source": [
    "min_value"
   ]
  },
  {
   "cell_type": "code",
   "execution_count": 39,
   "metadata": {},
   "outputs": [],
   "source": [
    "max_value = np.max(MVU_estimator_point_estimates)"
   ]
  },
  {
   "cell_type": "code",
   "execution_count": 40,
   "metadata": {},
   "outputs": [
    {
     "data": {
      "text/plain": [
       "9.878595911360584"
      ]
     },
     "execution_count": 40,
     "metadata": {},
     "output_type": "execute_result"
    }
   ],
   "source": [
    "max_value"
   ]
  },
  {
   "cell_type": "code",
   "execution_count": 41,
   "metadata": {},
   "outputs": [],
   "source": [
    "bins = 10\n",
    "bin_width = (max_value - min_value)/bins"
   ]
  },
  {
   "cell_type": "code",
   "execution_count": 42,
   "metadata": {},
   "outputs": [
    {
     "data": {
      "text/plain": [
       "0.39480272605360656"
      ]
     },
     "execution_count": 42,
     "metadata": {},
     "output_type": "execute_result"
    }
   ],
   "source": [
    "bin_width"
   ]
  },
  {
   "cell_type": "code",
   "execution_count": 43,
   "metadata": {},
   "outputs": [],
   "source": [
    "X_axis_markings = np.arange(start=min_value,stop=max_value,step=bin_width)"
   ]
  },
  {
   "cell_type": "code",
   "execution_count": 44,
   "metadata": {},
   "outputs": [
    {
     "data": {
      "text/plain": [
       "array([5.93056865, 6.32537138, 6.7201741 , 7.11497683, 7.50977956,\n",
       "       7.90458228, 8.29938501, 8.69418773, 9.08899046, 9.48379319])"
      ]
     },
     "execution_count": 44,
     "metadata": {},
     "output_type": "execute_result"
    }
   ],
   "source": [
    "X_axis_markings"
   ]
  },
  {
   "cell_type": "code",
   "execution_count": 45,
   "metadata": {},
   "outputs": [],
   "source": [
    "frequencies = []\n",
    " \n",
    "for i in range(len(X_axis_markings)-1):\n",
    "    \n",
    "    boolean_mask = (MVU_estimator_point_estimates >= X_axis_markings[i]) & (MVU_estimator_point_estimates < X_axis_markings[i+1]) \n",
    "    \n",
    "    frequency = np.sum(boolean_mask)\n",
    "    \n",
    "    frequencies.append(frequency)\n",
    "    \n",
    "boolean_mask = (MVU_estimator_point_estimates >= X_axis_markings[i]) & (MVU_estimator_point_estimates < X_axis_markings[i+1])\n",
    "\n",
    "frequency = np.sum(boolean_mask)\n",
    "\n",
    "frequencies.append(frequency)"
   ]
  },
  {
   "cell_type": "code",
   "execution_count": 46,
   "metadata": {},
   "outputs": [],
   "source": [
    "import matplotlib.pyplot as plt"
   ]
  },
  {
   "cell_type": "code",
   "execution_count": 47,
   "metadata": {},
   "outputs": [
    {
     "data": {
      "text/plain": [
       "<BarContainer object of 10 artists>"
      ]
     },
     "execution_count": 47,
     "metadata": {},
     "output_type": "execute_result"
    },
    {
     "data": {
      "image/png": "[encoded data removed]",
      "text/plain": [
       "<Figure size 432x288 with 1 Axes>"
      ]
     },
     "metadata": {},
     "output_type": "display_data"
    }
   ],
   "source": [
    "plt.bar(X_axis_markings,frequencies)"
   ]
  },
  {
   "cell_type": "code",
   "execution_count": 48,
   "metadata": {},
   "outputs": [],
   "source": [
    "best_estimate = np.mean(MVU_estimator_point_estimates)"
   ]
  },
  {
   "cell_type": "code",
   "execution_count": 49,
   "metadata": {},
   "outputs": [
    {
     "data": {
      "text/plain": [
       "7.9849814206530905"
      ]
     },
     "execution_count": 49,
     "metadata": {},
     "output_type": "execute_result"
    }
   ],
   "source": [
    "best_estimate"
   ]
  },
  {
   "cell_type": "code",
   "execution_count": null,
   "metadata": {},
   "outputs": [],
   "source": []
  }
 ],
 "metadata": {
  "kernelspec": {
   "display_name": "Python 3",
   "language": "python",
   "name": "python3"
  },
  "language_info": {
   "codemirror_mode": {
    "name": "ipython",
    "version": 3
   },
   "file_extension": ".py",
   "mimetype": "text/x-python",
   "name": "python",
   "nbconvert_exporter": "python",
   "pygments_lexer": "ipython3",
   "version": "3.6.5"
  }
 },
 "nbformat": 4,
 "nbformat_minor": 2
}
